{
 "cells": [
  {
   "cell_type": "markdown",
   "id": "a5b3bc0e-b993-4ee3-bd07-825a474bd0d9",
   "metadata": {
    "tags": []
   },
   "source": [
    "# Data Analyst Associate Case Study Submission"
   ]
  },
  {
   "cell_type": "markdown",
   "id": "d1b1a012-1ccb-40e7-a1ad-77b60b256690",
   "metadata": {
    "tags": []
   },
   "source": [
    "## Data Validation\n",
    "Describe the validation tasks you performed and what you found. Have you made any changes to the data to enable further analysis? Remember to describe what you did for every column in the data. \n",
    "\n",
    "\n",
    "The original data is 98 rows + headers and 8 columns. \n",
    "\n",
    "The first thing I did was to check the numeric values in the \"Time to close\" column. I found a single negative numeric value and corrected it, by converting it to positive, according to the data set description. \n",
    "\n",
    "I then removed the \"R$\" symbol from the data in the \"Claim amount\" column and converted it to whole numbers, as per the data set description. \n",
    "\n",
    "I also checked the numeric values in the \"Amount Paid\" column and rounded the numbers to two decimal places. \n",
    "\n",
    "While examining the \"Individuals on Claim\" column, I noticed several rows containing the value 0. This should be confirmed with the team providing the data, otherwise it would probably mean the case was dropped, but due to the circumstances of the given task, I found the average \"Individuals on Claim\" value for each of the 4 locations and applied it to the appropriate rows containing the number zero. \n",
    "\n",
    "Finally, I replaced all 78 empty rows in the \"Cause\" column with 'unkown'."
   ]
  },
  {
   "cell_type": "markdown",
   "id": "714a7083-7a43-4b0b-8ed4-2675efc87691",
   "metadata": {
    "tags": []
   },
   "source": [
    "## Data Discovery and Visualization\n",
    "Describe what you found in the analysis and how the visualizations answer the customer questions in the project brief. In your description you should:\n",
    "- Include at least two different data visualizations to demonstrate the characteristics of variables\n",
    "- Include data visualization to demonstrate the relationship between two or more variables\n",
    "- Describe how your analysis has answered the business questions in the project brief\n",
    "\n",
    "\n",
    "\n",
    "● How does the number of claims differ across locations?\n",
    "\n",
    "There are records of 98 claims and four possible locations included in the data. The Sao Luis location, even though not by a lot, has the most number of claims, followed by Recife, then Fortaleza and lastly, with one claim less than the previous location - Natal.\n",
    "\n",
    "\n",
    "![CountClaims](imgs/(CountClaims.png)\n",
    "\n",
    "We can see that the number of received claims is more or less evenly distributed, without huge difference in percentages. The biggest difference being 10 percent between the first and last location in terms of received cases.\n",
    "\n",
    "\n",
    "![PercentageClaims](imgs/PercentageClaims.png)\n",
    "\n",
    "● What is the distribution of time to close claims?\n",
    "\n",
    "As the legal team thinks that the number of days a case needs to be closed is important, we should look at how those number of days are distributed. Looking at the time, we can see that most cases needed from 200 to 700 days in order to be closed. There are two outliers which I have removed for easier understanding - two cases had more than 2400 days, one case needed 2997 days and another 3591.\n",
    "\n",
    "![DistributionTime](imgs/DistributionTime.png)\n",
    "\n",
    "After plotting the time needed to close a claim and the number of individuals on the claim on a scatter plot, as well as removing the two previously mentioned outliers that took a lot of days to close, we can see if there is some correlation between the two variables.\n",
    "\n",
    "![TimeIndividuals](imgs/TimeIndividuals.png)\n",
    "\n",
    "On the other hand we can see that there might be some corellation between the time it takes to close a claim and wether that claim has other linked cases to it. The average time it takes to close a case that has other linked cases to it, seems to be shorter than if there are no linked cases.\n",
    "\n",
    "![LinkedCasesTime](imgs/LinkedCasesTime.png)\n",
    "\n",
    "\n",
    "● How does the average time to close claims differ by location?\n",
    "\n",
    "The total average time needed to close a case is 833 days. We can see that two locations, Recife and Sao Luis are above that average, which might be due to the fact that they have more cases than the other two locations. An interesting note to make is that although Recife has less claims to deal with than Sao Luis, their average time needed to close a case is more than that of Sao Luis and this is something that should be looked into.\n",
    "\n",
    "![AverageTimeLocations](imgs/AverageTime.png)\n",
    "\n",
    "I would also recommend that the team should consider gathering more detailed data on the cause of the claims (meat, vegetables, etc.) as most of the causes are marked as unkown. By understanding the cause of a claim we can further analyze whether that has an impact on the amount of days it takes to close the case.\n",
    "\n"
   ]
  },
  {
   "cell_type": "code",
   "execution_count": null,
   "id": "1eed0d53",
   "metadata": {},
   "outputs": [],
   "source": []
  }
 ],
 "metadata": {
  "editor": "DataCamp Workspace",
  "kernelspec": {
   "display_name": "Python 3 (ipykernel)",
   "language": "python",
   "name": "python3"
  },
  "language_info": {
   "codemirror_mode": {
    "name": "ipython",
    "version": 3
   },
   "file_extension": ".py",
   "mimetype": "text/x-python",
   "name": "python",
   "nbconvert_exporter": "python",
   "pygments_lexer": "ipython3",
   "version": "3.9.13"
  }
 },
 "nbformat": 4,
 "nbformat_minor": 5
}
